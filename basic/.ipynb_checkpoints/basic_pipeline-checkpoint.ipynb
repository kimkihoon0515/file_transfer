{
 "cells": [
  {
   "cell_type": "code",
   "execution_count": null,
   "id": "f0e6d1f3-3548-4a71-9045-6339a664cef7",
   "metadata": {},
   "outputs": [],
   "source": [
    "import kfp\n",
    "from kfp.components import create_component_from_func\n",
    "from kfp.dsl import pipeline\n",
    "\n",
    "\n",
    "@create_component_from_func\n",
    "def print_and_return_number(number: int) -> int:\n",
    "    print(number)\n",
    "    return number\n",
    "\n",
    "\n",
    "@create_component_from_func\n",
    "def sum_and_print_numbers(number_1: int, number_2: int):\n",
    "    print(number_1 + number_2)\n",
    "\n",
    "\n",
    "@pipeline(name=\"example_pipeline\")\n",
    "def example_pipeline(number_1: int, number_2: int):\n",
    "    number_1_result = print_and_return_number(number_1).set_display_name(\"This is number 1\")\n",
    "    number_2_result = print_and_return_number(number_2).set_display_name(\"This is number 2\")\n",
    "    sum_result = sum_and_print_numbers(\n",
    "        number_1=number_1_result.output, number_2=number_2_result.output\n",
    "    ).set_display_name(\"This is sum of number 1 and number 2\")"
   ]
  },
  {
   "cell_type": "code",
   "execution_count": null,
   "id": "9134b522-79ff-4435-b939-5015ff643886",
   "metadata": {},
   "outputs": [],
   "source": [
    "import kfp\n",
    "import requests\n",
    "\n",
    "USERNAME = \"user@example.com\" # keycloak 사용시 불필요\n",
    "PASSWORD = \"12341234\" # keycloak 사용시 불필요\n",
    "NAMESPACE = \"kubeflow-user-example-com\"\n",
    "HOST = \"http://istio-ingressgateway.istio-system/\" # istio-ingressgateway pod ip:port ex) http://istio-ingressgateway.istio-system/ \n",
    "\n",
    "session = requests.Session()\n",
    "response = session.get(HOST)\n",
    "\n",
    "headers = {\n",
    "    \"Content-Type\": \"application/x-www-form-urlencoded\",\n",
    "}\n",
    "\n",
    "data = {\"login\": \"user@example.com\", \"password\": \"12341234\"}\n",
    "session.post(response.url, headers=headers, data=data)\n",
    "session_cookie = session.cookies.get_dict()[\"authservice_session\"]\n",
    "\n",
    "client = kfp.Client(\n",
    "    host=f\"{HOST}/pipeline\",\n",
    "    namespace=f\"{NAMESPACE}\",\n",
    "    cookies=f\"authservice_session={session_cookie}\", # 크롬창 kubeflow dashboard 에서 관리자도구 -> storage -> cookies -> authservice_session 토큰 복붙\n",
    ")\n",
    "list_pipelines = client.list_pipelines()\n",
    "\n",
    "print(list_pipelines.total_size)\n",
    "\n",
    "#for i in range(list_pipelines.total_size):"
   ]
  },
  {
   "cell_type": "code",
   "execution_count": null,
   "id": "fcdd1bf1-f322-4b86-86d0-45d9ef3f5bb8",
   "metadata": {},
   "outputs": [],
   "source": [
    "arguments={\n",
    "    'number_1': 1,\n",
    "    'number_2': 2\n",
    "}\n",
    "\n",
    "client.create_run_from_pipeline_func(pipeline_func=example_pipeline,arguments=arguments) # pipeline_func에 pipeline을 arguments에 인자값을 넣어주면 된다."
   ]
  }
 ],
 "metadata": {
  "kernelspec": {
   "display_name": "Python 3 (ipykernel)",
   "language": "python",
   "name": "python3"
  },
  "language_info": {
   "codemirror_mode": {
    "name": "ipython",
    "version": 3
   },
   "file_extension": ".py",
   "mimetype": "text/x-python",
   "name": "python",
   "nbconvert_exporter": "python",
   "pygments_lexer": "ipython3",
   "version": "3.8.10"
  }
 },
 "nbformat": 4,
 "nbformat_minor": 5
}
