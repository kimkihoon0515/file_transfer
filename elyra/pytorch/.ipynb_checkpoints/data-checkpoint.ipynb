{
 "cells": [
  {
   "cell_type": "code",
   "execution_count": null,
   "id": "7aa38f9a-603c-443e-b033-99b453adc530",
   "metadata": {},
   "outputs": [],
   "source": [
    "from torchvision import datasets\n",
    "from torchvision import transforms\n",
    "from torch.utils.data import DataLoader\n",
    "\n",
    "def download_dataset(): \n",
    "    download_root = '/home/jovyan/' # 데이터 다운로드 경로\n",
    "    train_dataset = datasets.FashionMNIST(root=download_root,\n",
    "                            train=True,\n",
    "                            transform=transforms.ToTensor(),\n",
    "                            download=True) # 학습 dataset 정의\n",
    "                            \n",
    "    test_dataset = datasets.FashionMNIST(root=download_root,\n",
    "                            train=False,\n",
    "                            transform=transforms.ToTensor(), \n",
    "                            download=True) # 평가 dataset 정의\n",
    "\n",
    "\n",
    "\n",
    "    batch_size = 100 # 배치 사이즈 정의. 데이터셋을 잘개 쪼개서 묶음으로 만드는 데 기여한다.\n",
    "\n"
   ]
  }
 ],
 "metadata": {
  "kernelspec": {
   "display_name": "Python 3",
   "language": "python",
   "name": "python3"
  },
  "language_info": {
   "codemirror_mode": {
    "name": "ipython",
    "version": 3
   },
   "file_extension": ".py",
   "mimetype": "text/x-python",
   "name": "python",
   "nbconvert_exporter": "python",
   "pygments_lexer": "ipython3",
   "version": "3.8.10"
  }
 },
 "nbformat": 4,
 "nbformat_minor": 5
}
