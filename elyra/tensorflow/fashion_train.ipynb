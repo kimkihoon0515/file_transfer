{
 "cells": [
  {
   "cell_type": "code",
   "execution_count": null,
   "id": "a982fa15-9ae5-403c-a442-22d3b887f202",
   "metadata": {},
   "outputs": [],
   "source": [
    "! pip install scikit-learn"
   ]
  },
  {
   "cell_type": "code",
   "execution_count": null,
   "id": "be909376-0000-4d9f-b354-f61552fce052",
   "metadata": {},
   "outputs": [],
   "source": [
    "from tensorflow import keras\n",
    "import tensorflow as tf\n",
    "import numpy as np\n",
    "from sklearn.metrics import confusion_matrix"
   ]
  },
  {
   "cell_type": "code",
   "execution_count": null,
   "id": "2c81fa61-d815-4a3e-8e57-0f0a66efb92c",
   "metadata": {},
   "outputs": [],
   "source": [
    "with open('/home/jovyan/dataset', \"rb\") as f:\n",
    "        dataset = np.load(f)\n",
    "        x_train, y_train = dataset[\"x_train\"], dataset[\"y_train\"]\n",
    "        x_test, y_test = dataset[\"x_test\"], dataset[\"y_test\"]"
   ]
  },
  {
   "cell_type": "code",
   "execution_count": null,
   "id": "6c59a988-2821-4540-ba65-ae80244a94aa",
   "metadata": {},
   "outputs": [],
   "source": [
    "from tensorflow import keras\n",
    "import tensorflow as tf\n",
    "import numpy as np\n",
    "from sklearn.metrics import confusion_matrix\n",
    "import json\n",
    "\n",
    "train_model = tf.keras.models.Sequential([\n",
    "    tf.keras.layers.Flatten(input_shape=(28, 28)),\n",
    "    tf.keras.layers.Dense(512, activation='relu'),\n",
    "    tf.keras.layers.Dense(10, activation='softmax')\n",
    "])\n",
    "\n",
    "\n",
    "#compile the model - we want to have a binary outcome\n",
    "\n",
    "optimizer = keras.optimizers.Adam(learning_rate=0.001)\n",
    "\n",
    "train_model.compile(optimizer=optimizer,\n",
    "            loss=\"sparse_categorical_crossentropy\",\n",
    "            metrics=['accuracy'])\n",
    "\n",
    "#fit the model and return the history while training\n",
    "history = train_model.fit(\n",
    "    x=x_train,\n",
    "    y=y_train,\n",
    "    epochs=1,\n",
    "    batch_size=20,\n",
    ")\n",
    "\n",
    "train_model.compile(optimizer='adam',\n",
    "              loss='sparse_categorical_crossentropy',\n",
    "              metrics=['accuracy'])\n",
    "\n",
    "train_model.fit(x_train,y_train, epochs=1)\n",
    "\n",
    "model_loss, model_accuracy = train_model.evaluate(x=x_test,y=y_test)\n",
    "\n",
    "predictions = train_model.predict(x_test)\n",
    "confusion = confusion_matrix(y_test,np.argmax(predictions,axis=1)).tolist()\n",
    "\n",
    "result = str(confusion)\n",
    "\n",
    "with open('/home/jovyan/result.txt','w') as f:\n",
    "    f.write(result)\n",
    "    \n"
   ]
  },
  {
   "cell_type": "markdown",
   "id": "0a0b66ef-3c6b-428e-a1ff-5dc612e2cea5",
   "metadata": {},
   "source": [
    "# Metric (Accuracy & Loss)"
   ]
  },
  {
   "cell_type": "code",
   "execution_count": null,
   "id": "9712cadb-e4b8-4734-853f-1e47ff1162ae",
   "metadata": {},
   "outputs": [],
   "source": [
    "metrics = {\n",
    "      'metrics': [{\n",
    "          'name': 'model_accuracy',\n",
    "          'numberValue':  float(model_accuracy),\n",
    "          'format' : \"PERCENTAGE\"\n",
    "        },{\n",
    "          'name': 'model_loss',\n",
    "          'numberValue':  float(model_loss),\n",
    "          'format' : \"PERCENTAGE\"\n",
    "        }],\n",
    "}\n",
    "\n",
    "with open('mlpipeline-metrics.json','w') as f:\n",
    "    json.dump(metrics,f)"
   ]
  }
 ],
 "metadata": {
  "kernelspec": {
   "display_name": "Python 3",
   "language": "python",
   "name": "python3"
  },
  "language_info": {
   "codemirror_mode": {
    "name": "ipython",
    "version": 3
   },
   "file_extension": ".py",
   "mimetype": "text/x-python",
   "name": "python",
   "nbconvert_exporter": "python",
   "pygments_lexer": "ipython3",
   "version": "3.8.10"
  }
 },
 "nbformat": 4,
 "nbformat_minor": 5
}
