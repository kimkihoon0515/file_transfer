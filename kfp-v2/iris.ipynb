{
 "cells": [
  {
   "cell_type": "code",
   "execution_count": 7,
   "metadata": {},
   "outputs": [
    {
     "name": "stderr",
     "output_type": "stream",
     "text": [
      "/opt/anaconda3/lib/python3.9/site-packages/kfp/compiler/compiler.py:79: UserWarning: V2_COMPATIBLE execution mode is at Beta quality. Some pipeline features may not work as expected.\n",
      "  warnings.warn('V2_COMPATIBLE execution mode is at Beta quality.'\n"
     ]
    }
   ],
   "source": [
    "import kfp\n",
    "import kfp.dsl as dsl\n",
    "from kfp.v2.dsl import component, Input, Output, InputPath, OutputPath, Dataset, Metrics, Model, Artifact, ClassificationMetrics\n",
    "\n",
    "import kfp\n",
    "import kfp.dsl as dsl\n",
    "from kfp.v2.dsl import component, Input, Output, InputPath, OutputPath, Dataset, Metrics, Model, Artifact, ClassificationMetrics\n",
    "\n",
    "import pandas as pd\n",
    "from sklearn import datasets\n",
    "\n",
    "dataset = datasets.load_iris()\n",
    "df = pd.DataFrame(data=dataset.data, columns= [\"Petal Length\", \"Petal Width\", \"Sepal Length\", \"Sepal Width\"])\n",
    "\n",
    "df.to_csv('iris.csv')\n",
    "df.head()\n",
    "@component(\n",
    "    packages_to_install = [\"pandas\", \"scikit-learn\"],\n",
    ")\n",
    "def load(data: Output[Dataset]):\n",
    "    import pandas as pd\n",
    "    from sklearn import datasets\n",
    "\n",
    "    dataset = datasets.load_iris()\n",
    "    df = pd.DataFrame(data=dataset.data, columns= [\"Petal Length\", \"Petal Width\", \"Sepal Length\", \"Sepal Width\"])\n",
    "    \n",
    "    df.to_csv(data.path)\n",
    "\n",
    "@component(\n",
    "    packages_to_install = [\"pandas\"],\n",
    ")\n",
    "def print_head(data: Input[Dataset]):\n",
    "    import pandas as pd\n",
    "    df = pd.read_csv(data.path)\n",
    "    print(df.head())\n",
    "\n",
    "@dsl.pipeline(\n",
    "    name='Iris',\n",
    "    description='iris'\n",
    ")\n",
    "def pipeline():\n",
    "    load_task = load()\n",
    "    print_task = print_head(data=load_task.outputs[\"data\"])\n",
    "\n",
    "kfp.compiler.Compiler(mode=kfp.dsl.PipelineExecutionMode.V2_COMPATIBLE).compile(\n",
    "    pipeline_func=pipeline,\n",
    "    package_path='iris_csv.yaml')\n",
    "\n"
   ]
  }
 ],
 "metadata": {
  "kernelspec": {
   "display_name": "base",
   "language": "python",
   "name": "python3"
  },
  "language_info": {
   "codemirror_mode": {
    "name": "ipython",
    "version": 3
   },
   "file_extension": ".py",
   "mimetype": "text/x-python",
   "name": "python",
   "nbconvert_exporter": "python",
   "pygments_lexer": "ipython3",
   "version": "3.9.13"
  },
  "orig_nbformat": 4,
  "vscode": {
   "interpreter": {
    "hash": "40d3a090f54c6569ab1632332b64b2c03c39dcf918b08424e98f38b5ae0af88f"
   }
  }
 },
 "nbformat": 4,
 "nbformat_minor": 2
}
