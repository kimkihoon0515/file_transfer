{
 "cells": [
  {
   "cell_type": "markdown",
   "id": "263158f8-d7ef-4382-91ae-4a1844e424ca",
   "metadata": {},
   "source": [
    "# Client 동기화"
   ]
  },
  {
   "cell_type": "code",
   "execution_count": null,
   "id": "f7436d5e-fe19-4509-b2de-fdf5f2fc776c",
   "metadata": {},
   "outputs": [],
   "source": [
    "import kfp\n",
    "import requests\n",
    "\n",
    "USERNAME = \"user@example.com\" # keycloak 사용시 불필요\n",
    "PASSWORD = \"12341234\" # keycloak 사용시 불필요\n",
    "NAMESPACE = \"kubeflow-user-example-com\"\n",
    "HOST = \"http://127.0.0.1:8080\" # istio-ingressgateway pod ip:port ex) http://istio-ingressgateway.istio-system/ \n",
    "\n",
    "session = requests.Session()\n",
    "response = session.get(HOST)\n",
    "\n",
    "headers = {\n",
    "    \"Content-Type\": \"application/x-www-form-urlencoded\",\n",
    "}\n",
    "\n",
    "data = {\"login\": \"user@example.com\", \"password\": \"12341234\"}\n",
    "session.post(response.url, headers=headers, data=data)\n",
    "session_cookie = session.cookies.get_dict()[\"authservice_session\"]\n",
    "\n",
    "client = kfp.Client(\n",
    "    host=f\"{HOST}/pipeline\",\n",
    "    namespace=f\"{NAMESPACE}\",\n",
    "    cookies=f\"authservice_session={session_cookie}\", # 크롬창 kubeflow dashboard 에서 관리자도구 -> storage -> cookies -> authservice_session 토큰 복붙\n",
    ")\n",
    "list_pipelines = client.list_pipelines()\n",
    "\n",
    "print(list_pipelines.total_size)\n",
    "\n",
    "#for i in range(list_pipelines.total_size):"
   ]
  },
  {
   "cell_type": "markdown",
   "id": "5594aae4-6ae0-48ba-8fe4-0081e94adf8d",
   "metadata": {},
   "source": [
    "## Pipeline Upload"
   ]
  },
  {
   "cell_type": "code",
   "execution_count": 426,
   "id": "9411a88b-fb8b-4529-90b0-6fdbc7fe19b9",
   "metadata": {},
   "outputs": [
    {
     "data": {
      "text/html": [
       "<a href=http://127.0.0.1:8080/pipeline/#/pipelines/details/e29621de-9669-4c6a-891c-92c47f199343>Pipeline details</a>."
      ],
      "text/plain": [
       "<IPython.core.display.HTML object>"
      ]
     },
     "metadata": {},
     "output_type": "display_data"
    },
    {
     "data": {
      "text/plain": [
       "{'created_at': datetime.datetime(2023, 1, 16, 14, 10, 24, tzinfo=tzutc()),\n",
       " 'default_version': {'code_source_url': None,\n",
       "                     'created_at': datetime.datetime(2023, 1, 16, 14, 10, 24, tzinfo=tzutc()),\n",
       "                     'description': None,\n",
       "                     'id': 'e29621de-9669-4c6a-891c-92c47f199343',\n",
       "                     'name': 'iris-v1',\n",
       "                     'package_url': None,\n",
       "                     'parameters': [{'name': 'pipeline-root', 'value': None},\n",
       "                                    {'name': 'pipeline-name',\n",
       "                                     'value': 'pipeline/iris-v1'}],\n",
       "                     'resource_references': [{'key': {'id': 'e29621de-9669-4c6a-891c-92c47f199343',\n",
       "                                                      'type': 'PIPELINE'},\n",
       "                                              'name': None,\n",
       "                                              'relationship': 'OWNER'}]},\n",
       " 'description': None,\n",
       " 'error': None,\n",
       " 'id': 'e29621de-9669-4c6a-891c-92c47f199343',\n",
       " 'name': 'iris-v1',\n",
       " 'parameters': [{'name': 'pipeline-root', 'value': None},\n",
       "                {'name': 'pipeline-name', 'value': 'pipeline/iris-v1'}],\n",
       " 'resource_references': None,\n",
       " 'url': None}"
      ]
     },
     "execution_count": 426,
     "metadata": {},
     "output_type": "execute_result"
    }
   ],
   "source": [
    "pipeline_package_path='/Users/gimgihun/file_transfer/kfp-v2/iris_csv.yaml' # pipeline yaml 파일 경로 수정해야함.\n",
    "pipeline_name='iris-v1' # pipeline 이름 \n",
    "client.upload_pipeline(pipeline_package_path=pipeline_package_path,pipeline_name=pipeline_name)"
   ]
  },
  {
   "cell_type": "markdown",
   "id": "134e7bde-452b-4df3-9e45-597d05fb7a44",
   "metadata": {},
   "source": [
    "# Experiment 생성"
   ]
  },
  {
   "cell_type": "code",
   "execution_count": 427,
   "id": "45150325-3463-4273-8d04-72f1e125c38e",
   "metadata": {},
   "outputs": [
    {
     "data": {
      "text/html": [
       "<a href=\"http://127.0.0.1:8080/pipeline/#/experiments/details/af5c0c9e-216a-433d-99b2-4f00714866d9\" target=\"_blank\" >Experiment details</a>."
      ],
      "text/plain": [
       "<IPython.core.display.HTML object>"
      ]
     },
     "metadata": {},
     "output_type": "display_data"
    }
   ],
   "source": [
    "experiment = client.create_experiment(name=pipeline_name,description=pipeline_name,namespace=NAMESPACE)"
   ]
  },
  {
   "cell_type": "code",
   "execution_count": 428,
   "id": "f2845b32",
   "metadata": {},
   "outputs": [
    {
     "data": {
      "text/plain": [
       "'af5c0c9e-216a-433d-99b2-4f00714866d9'"
      ]
     },
     "execution_count": 428,
     "metadata": {},
     "output_type": "execute_result"
    }
   ],
   "source": [
    "experiment_info = client.get_experiment(experiment_name=pipeline_name,namespace=NAMESPACE)\n",
    "experiment_id = experiment_info.id\n",
    "experiment_id\n"
   ]
  },
  {
   "cell_type": "markdown",
   "id": "a1725b41-9866-4760-aef2-3dfef09689cc",
   "metadata": {},
   "source": [
    "## Run 생성"
   ]
  },
  {
   "cell_type": "code",
   "execution_count": 429,
   "id": "35fe5b23",
   "metadata": {},
   "outputs": [
    {
     "data": {
      "text/html": [
       "<a href=\"http://127.0.0.1:8080/pipeline/#/runs/details/19a064c6-d443-4dcb-9396-b2f8941e36c9\" target=\"_blank\" >Run details</a>."
      ],
      "text/plain": [
       "<IPython.core.display.HTML object>"
      ]
     },
     "metadata": {},
     "output_type": "display_data"
    },
    {
     "data": {
      "text/plain": [
       "{'created_at': datetime.datetime(2023, 1, 16, 14, 10, 26, tzinfo=tzutc()),\n",
       " 'description': None,\n",
       " 'error': None,\n",
       " 'finished_at': datetime.datetime(1970, 1, 1, 0, 0, tzinfo=tzutc()),\n",
       " 'id': '19a064c6-d443-4dcb-9396-b2f8941e36c9',\n",
       " 'metrics': None,\n",
       " 'name': 'iris-v1',\n",
       " 'pipeline_spec': {'parameters': None,\n",
       "                   'pipeline_id': None,\n",
       "                   'pipeline_manifest': None,\n",
       "                   'pipeline_name': None,\n",
       "                   'runtime_config': None,\n",
       "                   'workflow_manifest': '{\"apiVersion\": '\n",
       "                                        '\"argoproj.io/v1alpha1\", \"kind\": '\n",
       "                                        '\"Workflow\", \"metadata\": '\n",
       "                                        '{\"generateName\": \"iris-\", '\n",
       "                                        '\"annotations\": '\n",
       "                                        '{\"pipelines.kubeflow.org/kfp_sdk_version\": '\n",
       "                                        '\"1.8.18\", '\n",
       "                                        '\"pipelines.kubeflow.org/pipeline_compilation_time\": '\n",
       "                                        '\"2023-01-16T23:09:55.133081\", '\n",
       "                                        '\"pipelines.kubeflow.org/pipeline_spec\": '\n",
       "                                        '\"{\\\\\"description\\\\\": \\\\\"iris\\\\\", '\n",
       "                                        '\\\\\"inputs\\\\\": [{\\\\\"default\\\\\": '\n",
       "                                        '\\\\\"\\\\\", \\\\\"name\\\\\": '\n",
       "                                        '\\\\\"pipeline-root\\\\\"}, {\\\\\"default\\\\\": '\n",
       "                                        '\\\\\"pipeline/Iris\\\\\", \\\\\"name\\\\\": '\n",
       "                                        '\\\\\"pipeline-name\\\\\"}], \\\\\"name\\\\\": '\n",
       "                                        '\\\\\"Iris\\\\\"}\", '\n",
       "                                        '\"pipelines.kubeflow.org/v2_pipeline\": '\n",
       "                                        '\"true\"}, \"labels\": '\n",
       "                                        '{\"pipelines.kubeflow.org/v2_pipeline\": '\n",
       "                                        '\"true\", '\n",
       "                                        '\"pipelines.kubeflow.org/kfp_sdk_version\": '\n",
       "                                        '\"1.8.18\"}}, \"spec\": {\"entrypoint\": '\n",
       "                                        '\"iris\", \"templates\": [{\"name\": '\n",
       "                                        '\"iris\", \"inputs\": {\"parameters\": '\n",
       "                                        '[{\"name\": \"pipeline-name\"}, {\"name\": '\n",
       "                                        '\"pipeline-root\"}]}, \"dag\": {\"tasks\": '\n",
       "                                        '[{\"name\": \"load\", \"template\": \"load\", '\n",
       "                                        '\"arguments\": {\"parameters\": [{\"name\": '\n",
       "                                        '\"pipeline-name\", \"value\": '\n",
       "                                        '\"{{inputs.parameters.pipeline-name}}\"}, '\n",
       "                                        '{\"name\": \"pipeline-root\", \"value\": '\n",
       "                                        '\"{{inputs.parameters.pipeline-root}}\"}]}}, '\n",
       "                                        '{\"name\": \"print-head\", \"template\": '\n",
       "                                        '\"print-head\", \"dependencies\": '\n",
       "                                        '[\"load\"], \"arguments\": {\"parameters\": '\n",
       "                                        '[{\"name\": \"pipeline-name\", \"value\": '\n",
       "                                        '\"{{inputs.parameters.pipeline-name}}\"}, '\n",
       "                                        '{\"name\": \"pipeline-root\", \"value\": '\n",
       "                                        '\"{{inputs.parameters.pipeline-root}}\"}], '\n",
       "                                        '\"artifacts\": [{\"name\": \"load-data\", '\n",
       "                                        '\"from\": '\n",
       "                                        '\"{{tasks.load.outputs.artifacts.load-data}}\"}]}}]}}, '\n",
       "                                        '{\"name\": \"load\", \"container\": '\n",
       "                                        '{\"args\": [\"sh\", \"-c\", \"\\\\nif ! [ -x '\n",
       "                                        '\\\\\"$(command -v pip)\\\\\" ]; then\\\\n    '\n",
       "                                        'python3 -m ensurepip || python3 -m '\n",
       "                                        'ensurepip --user || apt-get install '\n",
       "                                        'python3-pip\\\\nfi\\\\n\\\\nPIP_DISABLE_PIP_VERSION_CHECK=1 '\n",
       "                                        'python3 -m pip install --quiet     '\n",
       "                                        \"--no-warn-script-location 'pandas' \"\n",
       "                                        \"'scikit-learn' 'kfp==1.8.18' && \"\n",
       "                                        '\\\\\"$0\\\\\" \\\\\"$@\\\\\"\\\\n\", \"sh\", \"-ec\", '\n",
       "                                        '\"program_path=$(mktemp -d)\\\\nprintf '\n",
       "                                        '\\\\\"%s\\\\\" \\\\\"$0\\\\\" > '\n",
       "                                        '\\\\\"$program_path/ephemeral_component.py\\\\\"\\\\npython3 '\n",
       "                                        '-m '\n",
       "                                        'kfp.v2.components.executor_main                         '\n",
       "                                        '--component_module_path                         '\n",
       "                                        '\\\\\"$program_path/ephemeral_component.py\\\\\"                         '\n",
       "                                        '\\\\\"$@\\\\\"\\\\n\", \"\\\\nimport kfp\\\\nfrom '\n",
       "                                        'kfp.v2 import dsl\\\\nfrom kfp.v2.dsl '\n",
       "                                        'import *\\\\nfrom typing import '\n",
       "                                        '*\\\\n\\\\ndef load(data: '\n",
       "                                        'Output[Dataset]):\\\\n    import pandas '\n",
       "                                        'as pd\\\\n    from sklearn import '\n",
       "                                        'datasets\\\\n\\\\n    dataset = '\n",
       "                                        'datasets.load_iris()\\\\n    df = '\n",
       "                                        'pd.DataFrame(data=dataset.data, '\n",
       "                                        'columns= [\\\\\"Petal Length\\\\\", '\n",
       "                                        '\\\\\"Petal Width\\\\\", \\\\\"Sepal '\n",
       "                                        'Length\\\\\", \\\\\"Sepal '\n",
       "                                        'Width\\\\\"])\\\\n\\\\n    '\n",
       "                                        'df.to_csv(data.path)\\\\n\\\\n\", '\n",
       "                                        '\"--executor_input\", \"{{$}}\", '\n",
       "                                        '\"--function_to_execute\", \"load\"], '\n",
       "                                        '\"command\": [\"/kfp-launcher/launch\", '\n",
       "                                        '\"--mlmd_server_address\", '\n",
       "                                        '\"$(METADATA_GRPC_SERVICE_HOST)\", '\n",
       "                                        '\"--mlmd_server_port\", '\n",
       "                                        '\"$(METADATA_GRPC_SERVICE_PORT)\", '\n",
       "                                        '\"--runtime_info_json\", '\n",
       "                                        '\"$(KFP_V2_RUNTIME_INFO)\", '\n",
       "                                        '\"--container_image\", '\n",
       "                                        '\"$(KFP_V2_IMAGE)\", \"--task_name\", '\n",
       "                                        '\"load\", \"--pipeline_name\", '\n",
       "                                        '\"{{inputs.parameters.pipeline-name}}\", '\n",
       "                                        '\"--run_id\", \"$(KFP_RUN_ID)\", '\n",
       "                                        '\"--run_resource\", '\n",
       "                                        '\"workflows.argoproj.io/$(WORKFLOW_ID)\", '\n",
       "                                        '\"--namespace\", \"$(KFP_NAMESPACE)\", '\n",
       "                                        '\"--pod_name\", \"$(KFP_POD_NAME)\", '\n",
       "                                        '\"--pod_uid\", \"$(KFP_POD_UID)\", '\n",
       "                                        '\"--pipeline_root\", '\n",
       "                                        '\"{{inputs.parameters.pipeline-root}}\", '\n",
       "                                        '\"--enable_caching\", '\n",
       "                                        '\"$(ENABLE_CACHING)\", \"--\", \"--\"], '\n",
       "                                        '\"env\": [{\"name\": \"KFP_POD_NAME\", '\n",
       "                                        '\"valueFrom\": {\"fieldRef\": '\n",
       "                                        '{\"fieldPath\": \"metadata.name\"}}}, '\n",
       "                                        '{\"name\": \"KFP_POD_UID\", \"valueFrom\": '\n",
       "                                        '{\"fieldRef\": {\"fieldPath\": '\n",
       "                                        '\"metadata.uid\"}}}, {\"name\": '\n",
       "                                        '\"KFP_NAMESPACE\", \"valueFrom\": '\n",
       "                                        '{\"fieldRef\": {\"fieldPath\": '\n",
       "                                        '\"metadata.namespace\"}}}, {\"name\": '\n",
       "                                        '\"WORKFLOW_ID\", \"valueFrom\": '\n",
       "                                        '{\"fieldRef\": {\"fieldPath\": '\n",
       "                                        '\"metadata.labels[\\'workflows.argoproj.io/workflow\\']\"}}}, '\n",
       "                                        '{\"name\": \"KFP_RUN_ID\", \"valueFrom\": '\n",
       "                                        '{\"fieldRef\": {\"fieldPath\": '\n",
       "                                        '\"metadata.labels[\\'pipeline/runid\\']\"}}}, '\n",
       "                                        '{\"name\": \"ENABLE_CACHING\", '\n",
       "                                        '\"valueFrom\": {\"fieldRef\": '\n",
       "                                        '{\"fieldPath\": '\n",
       "                                        '\"metadata.labels[\\'pipelines.kubeflow.org/enable_caching\\']\"}}}, '\n",
       "                                        '{\"name\": \"KFP_V2_IMAGE\", \"value\": '\n",
       "                                        '\"python:3.7\"}, {\"name\": '\n",
       "                                        '\"KFP_V2_RUNTIME_INFO\", \"value\": '\n",
       "                                        '\"{\\\\\"inputParameters\\\\\": {}, '\n",
       "                                        '\\\\\"inputArtifacts\\\\\": {}, '\n",
       "                                        '\\\\\"outputParameters\\\\\": {}, '\n",
       "                                        '\\\\\"outputArtifacts\\\\\": {\\\\\"data\\\\\": '\n",
       "                                        '{\\\\\"schemaTitle\\\\\": '\n",
       "                                        '\\\\\"system.Dataset\\\\\", '\n",
       "                                        '\\\\\"instanceSchema\\\\\": \\\\\"\\\\\", '\n",
       "                                        '\\\\\"schemaVersion\\\\\": \\\\\"0.0.1\\\\\", '\n",
       "                                        '\\\\\"metadataPath\\\\\": '\n",
       "                                        '\\\\\"/tmp/outputs/data/data\\\\\"}}}\"}], '\n",
       "                                        '\"envFrom\": [{\"configMapRef\": {\"name\": '\n",
       "                                        '\"metadata-grpc-configmap\", '\n",
       "                                        '\"optional\": true}}], \"image\": '\n",
       "                                        '\"python:3.7\", \"volumeMounts\": '\n",
       "                                        '[{\"mountPath\": \"/kfp-launcher\", '\n",
       "                                        '\"name\": \"kfp-launcher\"}]}, \"inputs\": '\n",
       "                                        '{\"parameters\": [{\"name\": '\n",
       "                                        '\"pipeline-name\"}, {\"name\": '\n",
       "                                        '\"pipeline-root\"}]}, \"outputs\": '\n",
       "                                        '{\"artifacts\": [{\"name\": \"load-data\", '\n",
       "                                        '\"path\": \"/tmp/outputs/data/data\"}]}, '\n",
       "                                        '\"metadata\": {\"annotations\": '\n",
       "                                        '{\"pipelines.kubeflow.org/v2_component\": '\n",
       "                                        '\"true\", '\n",
       "                                        '\"pipelines.kubeflow.org/component_ref\": '\n",
       "                                        '\"{}\"}, \"labels\": '\n",
       "                                        '{\"pipelines.kubeflow.org/kfp_sdk_version\": '\n",
       "                                        '\"1.8.18\", '\n",
       "                                        '\"pipelines.kubeflow.org/pipeline-sdk-type\": '\n",
       "                                        '\"kfp\", '\n",
       "                                        '\"pipelines.kubeflow.org/v2_component\": '\n",
       "                                        '\"true\", '\n",
       "                                        '\"pipelines.kubeflow.org/enable_caching\": '\n",
       "                                        '\"true\"}}, \"initContainers\": '\n",
       "                                        '[{\"command\": [\"launcher\", \"--copy\", '\n",
       "                                        '\"/kfp-launcher/launch\"], \"image\": '\n",
       "                                        '\"gcr.io/ml-pipeline/kfp-launcher:1.8.7\", '\n",
       "                                        '\"name\": \"kfp-launcher\", '\n",
       "                                        '\"mirrorVolumeMounts\": true}], '\n",
       "                                        '\"volumes\": [{\"name\": '\n",
       "                                        '\"kfp-launcher\"}]}, {\"name\": '\n",
       "                                        '\"print-head\", \"container\": {\"args\": '\n",
       "                                        '[\"sh\", \"-c\", \"\\\\nif ! [ -x '\n",
       "                                        '\\\\\"$(command -v pip)\\\\\" ]; then\\\\n    '\n",
       "                                        'python3 -m ensurepip || python3 -m '\n",
       "                                        'ensurepip --user || apt-get install '\n",
       "                                        'python3-pip\\\\nfi\\\\n\\\\nPIP_DISABLE_PIP_VERSION_CHECK=1 '\n",
       "                                        'python3 -m pip install --quiet     '\n",
       "                                        \"--no-warn-script-location 'pandas' \"\n",
       "                                        '\\'kfp==1.8.18\\' && \\\\\"$0\\\\\" '\n",
       "                                        '\\\\\"$@\\\\\"\\\\n\", \"sh\", \"-ec\", '\n",
       "                                        '\"program_path=$(mktemp -d)\\\\nprintf '\n",
       "                                        '\\\\\"%s\\\\\" \\\\\"$0\\\\\" > '\n",
       "                                        '\\\\\"$program_path/ephemeral_component.py\\\\\"\\\\npython3 '\n",
       "                                        '-m '\n",
       "                                        'kfp.v2.components.executor_main                         '\n",
       "                                        '--component_module_path                         '\n",
       "                                        '\\\\\"$program_path/ephemeral_component.py\\\\\"                         '\n",
       "                                        '\\\\\"$@\\\\\"\\\\n\", \"\\\\nimport kfp\\\\nfrom '\n",
       "                                        'kfp.v2 import dsl\\\\nfrom kfp.v2.dsl '\n",
       "                                        'import *\\\\nfrom typing import '\n",
       "                                        '*\\\\n\\\\ndef print_head(data: '\n",
       "                                        'Input[Dataset]):\\\\n    import pandas '\n",
       "                                        'as pd\\\\n    df = '\n",
       "                                        'pd.read_csv(data.path)\\\\n    '\n",
       "                                        'print(df.head())\\\\n\\\\n\", '\n",
       "                                        '\"--executor_input\", \"{{$}}\", '\n",
       "                                        '\"--function_to_execute\", '\n",
       "                                        '\"print_head\"], \"command\": '\n",
       "                                        '[\"/kfp-launcher/launch\", '\n",
       "                                        '\"--mlmd_server_address\", '\n",
       "                                        '\"$(METADATA_GRPC_SERVICE_HOST)\", '\n",
       "                                        '\"--mlmd_server_port\", '\n",
       "                                        '\"$(METADATA_GRPC_SERVICE_PORT)\", '\n",
       "                                        '\"--runtime_info_json\", '\n",
       "                                        '\"$(KFP_V2_RUNTIME_INFO)\", '\n",
       "                                        '\"--container_image\", '\n",
       "                                        '\"$(KFP_V2_IMAGE)\", \"--task_name\", '\n",
       "                                        '\"print-head\", \"--pipeline_name\", '\n",
       "                                        '\"{{inputs.parameters.pipeline-name}}\", '\n",
       "                                        '\"--run_id\", \"$(KFP_RUN_ID)\", '\n",
       "                                        '\"--run_resource\", '\n",
       "                                        '\"workflows.argoproj.io/$(WORKFLOW_ID)\", '\n",
       "                                        '\"--namespace\", \"$(KFP_NAMESPACE)\", '\n",
       "                                        '\"--pod_name\", \"$(KFP_POD_NAME)\", '\n",
       "                                        '\"--pod_uid\", \"$(KFP_POD_UID)\", '\n",
       "                                        '\"--pipeline_root\", '\n",
       "                                        '\"{{inputs.parameters.pipeline-root}}\", '\n",
       "                                        '\"--enable_caching\", '\n",
       "                                        '\"$(ENABLE_CACHING)\", \"--\", \"--\"], '\n",
       "                                        '\"env\": [{\"name\": \"KFP_POD_NAME\", '\n",
       "                                        '\"valueFrom\": {\"fieldRef\": '\n",
       "                                        '{\"fieldPath\": \"metadata.name\"}}}, '\n",
       "                                        '{\"name\": \"KFP_POD_UID\", \"valueFrom\": '\n",
       "                                        '{\"fieldRef\": {\"fieldPath\": '\n",
       "                                        '\"metadata.uid\"}}}, {\"name\": '\n",
       "                                        '\"KFP_NAMESPACE\", \"valueFrom\": '\n",
       "                                        '{\"fieldRef\": {\"fieldPath\": '\n",
       "                                        '\"metadata.namespace\"}}}, {\"name\": '\n",
       "                                        '\"WORKFLOW_ID\", \"valueFrom\": '\n",
       "                                        '{\"fieldRef\": {\"fieldPath\": '\n",
       "                                        '\"metadata.labels[\\'workflows.argoproj.io/workflow\\']\"}}}, '\n",
       "                                        '{\"name\": \"KFP_RUN_ID\", \"valueFrom\": '\n",
       "                                        '{\"fieldRef\": {\"fieldPath\": '\n",
       "                                        '\"metadata.labels[\\'pipeline/runid\\']\"}}}, '\n",
       "                                        '{\"name\": \"ENABLE_CACHING\", '\n",
       "                                        '\"valueFrom\": {\"fieldRef\": '\n",
       "                                        '{\"fieldPath\": '\n",
       "                                        '\"metadata.labels[\\'pipelines.kubeflow.org/enable_caching\\']\"}}}, '\n",
       "                                        '{\"name\": \"KFP_V2_IMAGE\", \"value\": '\n",
       "                                        '\"python:3.7\"}, {\"name\": '\n",
       "                                        '\"KFP_V2_RUNTIME_INFO\", \"value\": '\n",
       "                                        '\"{\\\\\"inputParameters\\\\\": {}, '\n",
       "                                        '\\\\\"inputArtifacts\\\\\": {\\\\\"data\\\\\": '\n",
       "                                        '{\\\\\"metadataPath\\\\\": '\n",
       "                                        '\\\\\"/tmp/inputs/data/data\\\\\", '\n",
       "                                        '\\\\\"schemaTitle\\\\\": '\n",
       "                                        '\\\\\"system.Dataset\\\\\", '\n",
       "                                        '\\\\\"instanceSchema\\\\\": \\\\\"\\\\\", '\n",
       "                                        '\\\\\"schemaVersion\\\\\": \\\\\"0.0.1\\\\\"}}, '\n",
       "                                        '\\\\\"outputParameters\\\\\": {}, '\n",
       "                                        '\\\\\"outputArtifacts\\\\\": {}}\"}], '\n",
       "                                        '\"envFrom\": [{\"configMapRef\": {\"name\": '\n",
       "                                        '\"metadata-grpc-configmap\", '\n",
       "                                        '\"optional\": true}}], \"image\": '\n",
       "                                        '\"python:3.7\", \"volumeMounts\": '\n",
       "                                        '[{\"mountPath\": \"/kfp-launcher\", '\n",
       "                                        '\"name\": \"kfp-launcher\"}]}, \"inputs\": '\n",
       "                                        '{\"parameters\": [{\"name\": '\n",
       "                                        '\"pipeline-name\"}, {\"name\": '\n",
       "                                        '\"pipeline-root\"}], \"artifacts\": '\n",
       "                                        '[{\"name\": \"load-data\", \"path\": '\n",
       "                                        '\"/tmp/inputs/data/data\"}]}, '\n",
       "                                        '\"metadata\": {\"annotations\": '\n",
       "                                        '{\"pipelines.kubeflow.org/v2_component\": '\n",
       "                                        '\"true\", '\n",
       "                                        '\"pipelines.kubeflow.org/component_ref\": '\n",
       "                                        '\"{}\"}, \"labels\": '\n",
       "                                        '{\"pipelines.kubeflow.org/kfp_sdk_version\": '\n",
       "                                        '\"1.8.18\", '\n",
       "                                        '\"pipelines.kubeflow.org/pipeline-sdk-type\": '\n",
       "                                        '\"kfp\", '\n",
       "                                        '\"pipelines.kubeflow.org/v2_component\": '\n",
       "                                        '\"true\", '\n",
       "                                        '\"pipelines.kubeflow.org/enable_caching\": '\n",
       "                                        '\"true\"}}, \"initContainers\": '\n",
       "                                        '[{\"command\": [\"launcher\", \"--copy\", '\n",
       "                                        '\"/kfp-launcher/launch\"], \"image\": '\n",
       "                                        '\"gcr.io/ml-pipeline/kfp-launcher:1.8.7\", '\n",
       "                                        '\"name\": \"kfp-launcher\", '\n",
       "                                        '\"mirrorVolumeMounts\": true}], '\n",
       "                                        '\"volumes\": [{\"name\": '\n",
       "                                        '\"kfp-launcher\"}]}], \"arguments\": '\n",
       "                                        '{\"parameters\": [{\"name\": '\n",
       "                                        '\"pipeline-root\", \"value\": \"\"}, '\n",
       "                                        '{\"name\": \"pipeline-name\", \"value\": '\n",
       "                                        '\"pipeline/Iris\"}]}, '\n",
       "                                        '\"serviceAccountName\": '\n",
       "                                        '\"pipeline-runner\"}}'},\n",
       " 'resource_references': [{'key': {'id': 'af5c0c9e-216a-433d-99b2-4f00714866d9',\n",
       "                                  'type': 'EXPERIMENT'},\n",
       "                          'name': 'iris-v1',\n",
       "                          'relationship': 'OWNER'}],\n",
       " 'scheduled_at': datetime.datetime(2023, 1, 16, 14, 10, 26, tzinfo=tzutc()),\n",
       " 'service_account': 'default-editor',\n",
       " 'status': None,\n",
       " 'storage_state': None}"
      ]
     },
     "execution_count": 429,
     "metadata": {},
     "output_type": "execute_result"
    }
   ],
   "source": [
    "client.run_pipeline(experiment_id=experiment.id,job_name=pipeline_name,pipeline_package_path=pipeline_package_path)"
   ]
  },
  {
   "cell_type": "code",
   "execution_count": 422,
   "id": "513994c1-e1fa-4a80-ab1d-a3356aa33286",
   "metadata": {},
   "outputs": [
    {
     "data": {
      "text/plain": [
       "{}"
      ]
     },
     "execution_count": 422,
     "metadata": {},
     "output_type": "execute_result"
    }
   ],
   "source": [
    "pipeline_id = client.get_pipeline_id(pipeline_name)\n",
    "client.delete_pipeline(pipeline_id=pipeline_id)"
   ]
  },
  {
   "cell_type": "code",
   "execution_count": 423,
   "id": "07be0d69",
   "metadata": {},
   "outputs": [],
   "source": [
    "experiment_info = client.get_experiment(experiment_name=pipeline_name,namespace=NAMESPACE)\n",
    "experiment_id = experiment_info.id"
   ]
  },
  {
   "cell_type": "code",
   "execution_count": 424,
   "id": "e29025f2",
   "metadata": {},
   "outputs": [
    {
     "data": {
      "text/plain": [
       "{}"
      ]
     },
     "execution_count": 424,
     "metadata": {},
     "output_type": "execute_result"
    }
   ],
   "source": [
    "client.delete_experiment(experiment_id=experiment_id)"
   ]
  },
  {
   "cell_type": "code",
   "execution_count": 425,
   "id": "5bbbcd74",
   "metadata": {},
   "outputs": [
    {
     "name": "stdout",
     "output_type": "stream",
     "text": [
      "8372d4b4-5b5c-43ee-b9fa-20074e7fa10a\n",
      "af92870d-35a1-47a1-8bed-20c88bb416d6\n",
      "8aca9d3b-62fa-452c-9fad-6539c6cb0e6f\n",
      "c601a2d6-634b-470e-b7d5-0524f7cd6457\n"
     ]
    },
    {
     "data": {
      "text/plain": [
       "{}"
      ]
     },
     "execution_count": 425,
     "metadata": {},
     "output_type": "execute_result"
    }
   ],
   "source": [
    "for i in range(client.list_runs().total_size):\n",
    "    run_id = client.list_runs().runs[i].id\n",
    "    delete_run_id = run_id\n",
    "    print(delete_run_id)\n",
    "\n",
    "client.runs.delete_run(id=delete_run_id) # id값을 인자로 넣어주고 runs 삭제"
   ]
  },
  {
   "cell_type": "code",
   "execution_count": null,
   "id": "0f7a519d",
   "metadata": {},
   "outputs": [],
   "source": [
    "client.create_run_from_pipeline_package"
   ]
  }
 ],
 "metadata": {
  "kernelspec": {
   "display_name": "base",
   "language": "python",
   "name": "python3"
  },
  "language_info": {
   "codemirror_mode": {
    "name": "ipython",
    "version": 3
   },
   "file_extension": ".py",
   "mimetype": "text/x-python",
   "name": "python",
   "nbconvert_exporter": "python",
   "pygments_lexer": "ipython3",
   "version": "3.9.13"
  },
  "vscode": {
   "interpreter": {
    "hash": "40d3a090f54c6569ab1632332b64b2c03c39dcf918b08424e98f38b5ae0af88f"
   }
  }
 },
 "nbformat": 4,
 "nbformat_minor": 5
}
