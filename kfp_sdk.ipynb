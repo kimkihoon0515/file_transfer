{
 "cells": [
  {
   "cell_type": "markdown",
   "id": "263158f8-d7ef-4382-91ae-4a1844e424ca",
   "metadata": {},
   "source": [
    "# Client 동기화"
   ]
  },
  {
   "cell_type": "code",
   "execution_count": 14,
   "id": "f7436d5e-fe19-4509-b2de-fdf5f2fc776c",
   "metadata": {},
   "outputs": [
    {
     "name": "stdout",
     "output_type": "stream",
     "text": [
      "[Demo] XGBoost - Iterative model training\n",
      "[Demo] TFX - Taxi tip prediction model trainer\n",
      "[Tutorial] Data passing in python components\n",
      "[Tutorial] DSL - Control structures\n",
      "example_pipeline\n",
      "cheating-containerless\n",
      "multiply-pipeline\n",
      "mnist\n",
      "iris-pipeline\n",
      "mnist-pipeline\n"
     ]
    },
    {
     "ename": "IndexError",
     "evalue": "list index out of range",
     "output_type": "error",
     "traceback": [
      "\u001b[0;31m---------------------------------------------------------------------------\u001b[0m",
      "\u001b[0;31mIndexError\u001b[0m                                Traceback (most recent call last)",
      "\u001b[1;32m/Users/gimgihun/file_transfer/kfp_sdk.ipynb 셀 2\u001b[0m in \u001b[0;36m<cell line: 27>\u001b[0;34m()\u001b[0m\n\u001b[1;32m     <a href='vscode-notebook-cell:/Users/gimgihun/file_transfer/kfp_sdk.ipynb#W1sZmlsZQ%3D%3D?line=24'>25</a>\u001b[0m list_pipelines \u001b[39m=\u001b[39m client\u001b[39m.\u001b[39mlist_pipelines()\n\u001b[1;32m     <a href='vscode-notebook-cell:/Users/gimgihun/file_transfer/kfp_sdk.ipynb#W1sZmlsZQ%3D%3D?line=26'>27</a>\u001b[0m \u001b[39mfor\u001b[39;00m i \u001b[39min\u001b[39;00m \u001b[39mrange\u001b[39m(list_pipelines\u001b[39m.\u001b[39mtotal_size):\n\u001b[0;32m---> <a href='vscode-notebook-cell:/Users/gimgihun/file_transfer/kfp_sdk.ipynb#W1sZmlsZQ%3D%3D?line=27'>28</a>\u001b[0m     \u001b[39mprint\u001b[39m(list_pipelines\u001b[39m.\u001b[39;49mpipelines[i]\u001b[39m.\u001b[39mname)\n\u001b[1;32m     <a href='vscode-notebook-cell:/Users/gimgihun/file_transfer/kfp_sdk.ipynb#W1sZmlsZQ%3D%3D?line=28'>29</a>\u001b[0m \u001b[39mprint\u001b[39m(response\u001b[39m.\u001b[39murl)\n\u001b[1;32m     <a href='vscode-notebook-cell:/Users/gimgihun/file_transfer/kfp_sdk.ipynb#W1sZmlsZQ%3D%3D?line=29'>30</a>\u001b[0m \u001b[39mprint\u001b[39m(session_cookie)\n",
      "\u001b[0;31mIndexError\u001b[0m: list index out of range"
     ]
    }
   ],
   "source": [
    "import kfp\n",
    "import requests\n",
    "\n",
    "USERNAME = \"user@example.com\"\n",
    "PASSWORD = \"12341234\"\n",
    "NAMESPACE = \"kubeflow-user-example-com\"\n",
    "HOST = \"http://127.0.0.1:8080\" # istio-ingressgateway pod ip:port\n",
    "\n",
    "session = requests.Session()\n",
    "response = session.get(HOST)\n",
    "\n",
    "headers = {\n",
    "    \"Content-Type\": \"application/x-www-form-urlencoded\",\n",
    "}\n",
    "\n",
    "data = {\"login\": \"user@example.com\", \"password\": \"12341234\"}\n",
    "session.post(response.url, headers=headers, data=data)\n",
    "session_cookie = session.cookies.get_dict()[\"authservice_session\"]\n",
    "\n",
    "client = kfp.Client(\n",
    "    host=f\"{HOST}/pipeline\",\n",
    "    namespace=f\"{NAMESPACE}\",\n",
    "    cookies=f\"authservice_session={session_cookie}\",\n",
    ")\n",
    "list_pipelines = client.list_pipelines()\n",
    "\n",
    "for i in range(list_pipelines.total_size):\n",
    "    print(list_pipelines.pipelines[i].name)\n",
    "print(response.url)\n",
    "print(session_cookie)"
   ]
  },
  {
   "cell_type": "code",
   "execution_count": 5,
   "id": "baae55e2-c478-4428-ae7c-99a77175b672",
   "metadata": {},
   "outputs": [
    {
     "data": {
      "text/plain": [
       "<kfp._client.Client at 0x1044ee910>"
      ]
     },
     "execution_count": 5,
     "metadata": {},
     "output_type": "execute_result"
    }
   ],
   "source": [
    "client"
   ]
  },
  {
   "cell_type": "markdown",
   "id": "d610e44f-987e-40aa-b891-5d80c5150e63",
   "metadata": {},
   "source": [
    "# Experiment 정보 가져오기"
   ]
  },
  {
   "cell_type": "code",
   "execution_count": 57,
   "id": "06776e58-197a-42dd-bdb8-7143f0ce1e7a",
   "metadata": {},
   "outputs": [],
   "source": [
    "experiment_info = client.get_experiment(experiment_name=\"pytorch-training\",namespace=NAMESPACE)"
   ]
  },
  {
   "cell_type": "code",
   "execution_count": 58,
   "id": "4e57a984-fa76-44bb-8762-d98910608396",
   "metadata": {},
   "outputs": [],
   "source": [
    "experiment_id = experiment_info.id"
   ]
  },
  {
   "cell_type": "markdown",
   "id": "81fbd226-b893-4604-923d-d946277645dd",
   "metadata": {},
   "source": [
    "# Experiment 삭제하기"
   ]
  },
  {
   "cell_type": "code",
   "execution_count": 59,
   "id": "73b36a58-5a0f-4d11-8eb1-1ccc5df3ca75",
   "metadata": {},
   "outputs": [
    {
     "data": {
      "text/plain": [
       "{}"
      ]
     },
     "execution_count": 59,
     "metadata": {},
     "output_type": "execute_result"
    }
   ],
   "source": [
    "client.delete_experiment(experiment_id=experiment_id)"
   ]
  },
  {
   "cell_type": "markdown",
   "id": "dbc04cd1-dfca-45c1-8c36-72384c3dcc1b",
   "metadata": {},
   "source": [
    "# Runs 삭제하기"
   ]
  },
  {
   "cell_type": "code",
   "execution_count": 60,
   "id": "e250abb2-d2d1-44bb-abec-7d6b9a7bba52",
   "metadata": {},
   "outputs": [
    {
     "data": {
      "text/plain": [
       "{}"
      ]
     },
     "execution_count": 60,
     "metadata": {},
     "output_type": "execute_result"
    }
   ],
   "source": [
    "for i in range(client.list_runs().total_size):\n",
    "    run_id = client.list_runs().runs[i].id\n",
    "    #client.runs.delete_run(id=run_id)\n",
    "    delete_run_id = run_id\n",
    "\n",
    "client.runs.delete_run(id=delete_run_id)"
   ]
  },
  {
   "cell_type": "markdown",
   "id": "5594aae4-6ae0-48ba-8fe4-0081e94adf8d",
   "metadata": {},
   "source": [
    "## Pipeline Upload"
   ]
  },
  {
   "cell_type": "code",
   "execution_count": 65,
   "id": "9411a88b-fb8b-4529-90b0-6fdbc7fe19b9",
   "metadata": {},
   "outputs": [
    {
     "data": {
      "text/html": [
       "<a href=http://127.0.0.1:8080/pipeline/#/pipelines/details/864a7da2-a5a9-4323-b2e6-8d0a4e5c8b16>Pipeline details</a>."
      ],
      "text/plain": [
       "<IPython.core.display.HTML object>"
      ]
     },
     "metadata": {},
     "output_type": "display_data"
    },
    {
     "data": {
      "text/plain": [
       "{'created_at': datetime.datetime(2023, 1, 4, 4, 10, 35, tzinfo=tzutc()),\n",
       " 'default_version': {'code_source_url': None,\n",
       "                     'created_at': datetime.datetime(2023, 1, 4, 4, 10, 35, tzinfo=tzutc()),\n",
       "                     'description': None,\n",
       "                     'id': '864a7da2-a5a9-4323-b2e6-8d0a4e5c8b16',\n",
       "                     'name': 'java-pytorch-training',\n",
       "                     'package_url': None,\n",
       "                     'parameters': None,\n",
       "                     'resource_references': [{'key': {'id': '864a7da2-a5a9-4323-b2e6-8d0a4e5c8b16',\n",
       "                                                      'type': 'PIPELINE'},\n",
       "                                              'name': None,\n",
       "                                              'relationship': 'OWNER'}]},\n",
       " 'description': None,\n",
       " 'error': None,\n",
       " 'id': '864a7da2-a5a9-4323-b2e6-8d0a4e5c8b16',\n",
       " 'name': 'java-pytorch-training',\n",
       " 'parameters': None,\n",
       " 'resource_references': None,\n",
       " 'url': None}"
      ]
     },
     "execution_count": 65,
     "metadata": {},
     "output_type": "execute_result"
    }
   ],
   "source": [
    "pipeline_package_path='/Users/gimgihun/file_transfer/pytorch-pipeline/java-pytorch-pipeline.yaml'\n",
    "pipeline_name='java-pytorch-training'\n",
    "client.upload_pipeline(pipeline_package_path=pipeline_package_path,pipeline_name=pipeline_name)"
   ]
  },
  {
   "cell_type": "markdown",
   "id": "134e7bde-452b-4df3-9e45-597d05fb7a44",
   "metadata": {},
   "source": [
    "# Experiment 생성"
   ]
  },
  {
   "cell_type": "code",
   "execution_count": 66,
   "id": "45150325-3463-4273-8d04-72f1e125c38e",
   "metadata": {},
   "outputs": [
    {
     "data": {
      "text/html": [
       "<a href=\"http://127.0.0.1:8080/pipeline/#/experiments/details/7a82547a-918b-44f9-a6f9-24350a7229d2\" target=\"_blank\" >Experiment details</a>."
      ],
      "text/plain": [
       "<IPython.core.display.HTML object>"
      ]
     },
     "metadata": {},
     "output_type": "display_data"
    }
   ],
   "source": [
    "experiment = client.create_experiment(name=pipeline_name,description=pipeline_name,namespace=NAMESPACE)"
   ]
  },
  {
   "cell_type": "code",
   "execution_count": 67,
   "id": "f2845b32",
   "metadata": {},
   "outputs": [
    {
     "data": {
      "text/plain": [
       "'7a82547a-918b-44f9-a6f9-24350a7229d2'"
      ]
     },
     "execution_count": 67,
     "metadata": {},
     "output_type": "execute_result"
    }
   ],
   "source": [
    "experiment_info = client.get_experiment(experiment_name=pipeline_name,namespace=NAMESPACE)\n",
    "experiment_id = experiment_info.id\n",
    "experiment_id\n"
   ]
  },
  {
   "cell_type": "markdown",
   "id": "a1725b41-9866-4760-aef2-3dfef09689cc",
   "metadata": {},
   "source": [
    "## Run 생성"
   ]
  },
  {
   "cell_type": "code",
   "execution_count": 68,
   "id": "b639a024-05a0-4ba8-8c0b-c8c70f0c8b48",
   "metadata": {},
   "outputs": [
    {
     "data": {
      "text/html": [
       "<a href=\"http://127.0.0.1:8080/pipeline/#/runs/details/1d53d225-0f15-49f1-869e-9a3efa64d8e4\" target=\"_blank\" >Run details</a>."
      ],
      "text/plain": [
       "<IPython.core.display.HTML object>"
      ]
     },
     "metadata": {},
     "output_type": "display_data"
    },
    {
     "data": {
      "text/plain": [
       "{'created_at': datetime.datetime(2023, 1, 4, 4, 10, 37, tzinfo=tzutc()),\n",
       " 'description': None,\n",
       " 'error': None,\n",
       " 'finished_at': datetime.datetime(1970, 1, 1, 0, 0, tzinfo=tzutc()),\n",
       " 'id': '1d53d225-0f15-49f1-869e-9a3efa64d8e4',\n",
       " 'metrics': None,\n",
       " 'name': 'java-pytorch-training',\n",
       " 'pipeline_spec': {'parameters': None,\n",
       "                   'pipeline_id': None,\n",
       "                   'pipeline_manifest': None,\n",
       "                   'pipeline_name': None,\n",
       "                   'runtime_config': None,\n",
       "                   'workflow_manifest': '{\"apiVersion\": '\n",
       "                                        '\"argoproj.io/v1alpha1\", \"kind\": '\n",
       "                                        '\"Workflow\", \"metadata\": '\n",
       "                                        '{\"generateName\": '\n",
       "                                        '\"pytorch-image-pipeline-\", '\n",
       "                                        '\"annotations\": '\n",
       "                                        '{\"pipelines.kubeflow.org/kfp_sdk_version\": '\n",
       "                                        '\"1.8.18\", '\n",
       "                                        '\"pipelines.kubeflow.org/pipeline_compilation_time\": '\n",
       "                                        '\"2023-01-04T13:10:19.353687\", '\n",
       "                                        '\"pipelines.kubeflow.org/pipeline_spec\": '\n",
       "                                        '\"{\\\\\"description\\\\\": \\\\\"training '\n",
       "                                        'mnist data from minio in docker '\n",
       "                                        'image\\\\\", \\\\\"name\\\\\": \\\\\"pytorch '\n",
       "                                        'image pipeline\\\\\"}\"}, \"labels\": '\n",
       "                                        '{\"pipelines.kubeflow.org/kfp_sdk_version\": '\n",
       "                                        '\"1.8.18\"}}, \"spec\": {\"entrypoint\": '\n",
       "                                        '\"pytorch-image-pipeline\", '\n",
       "                                        '\"templates\": [{\"name\": \"java-app\", '\n",
       "                                        '\"container\": {\"command\": [\"java\", '\n",
       "                                        '\"Hello\"], \"image\": '\n",
       "                                        '\"krizel2121/java-docker-app\"}, '\n",
       "                                        '\"metadata\": {\"labels\": '\n",
       "                                        '{\"pipelines.kubeflow.org/kfp_sdk_version\": '\n",
       "                                        '\"1.8.18\", '\n",
       "                                        '\"pipelines.kubeflow.org/pipeline-sdk-type\": '\n",
       "                                        '\"kfp\", '\n",
       "                                        '\"pipelines.kubeflow.org/enable_caching\": '\n",
       "                                        '\"true\"}}}, {\"name\": '\n",
       "                                        '\"pytorch-data-upload\", \"container\": '\n",
       "                                        '{\"command\": [\"python\", \"data.py\"], '\n",
       "                                        '\"image\": '\n",
       "                                        '\"kimkihoon0515/pytorch-data\"}, '\n",
       "                                        '\"metadata\": {\"labels\": '\n",
       "                                        '{\"pipelines.kubeflow.org/kfp_sdk_version\": '\n",
       "                                        '\"1.8.18\", '\n",
       "                                        '\"pipelines.kubeflow.org/pipeline-sdk-type\": '\n",
       "                                        '\"kfp\", '\n",
       "                                        '\"pipelines.kubeflow.org/enable_caching\": '\n",
       "                                        '\"true\"}}}, {\"name\": '\n",
       "                                        '\"pytorch-image-pipeline\", \"dag\": '\n",
       "                                        '{\"tasks\": [{\"name\": \"java-app\", '\n",
       "                                        '\"template\": \"java-app\", '\n",
       "                                        '\"dependencies\": '\n",
       "                                        '[\"pytorch-mnist-train\"]}, {\"name\": '\n",
       "                                        '\"pytorch-data-upload\", \"template\": '\n",
       "                                        '\"pytorch-data-upload\"}, {\"name\": '\n",
       "                                        '\"pytorch-mnist-train\", \"template\": '\n",
       "                                        '\"pytorch-mnist-train\", '\n",
       "                                        '\"dependencies\": '\n",
       "                                        '[\"pytorch-data-upload\"]}]}}, {\"name\": '\n",
       "                                        '\"pytorch-mnist-train\", \"container\": '\n",
       "                                        '{\"command\": [\"python\", \"train.py\"], '\n",
       "                                        '\"image\": '\n",
       "                                        '\"kimkihoon0515/pytorch-train\"}, '\n",
       "                                        '\"metadata\": {\"labels\": '\n",
       "                                        '{\"pipelines.kubeflow.org/kfp_sdk_version\": '\n",
       "                                        '\"1.8.18\", '\n",
       "                                        '\"pipelines.kubeflow.org/pipeline-sdk-type\": '\n",
       "                                        '\"kfp\", '\n",
       "                                        '\"pipelines.kubeflow.org/enable_caching\": '\n",
       "                                        '\"true\"}}}], \"arguments\": '\n",
       "                                        '{\"parameters\": []}, '\n",
       "                                        '\"serviceAccountName\": '\n",
       "                                        '\"pipeline-runner\"}}'},\n",
       " 'resource_references': [{'key': {'id': '7a82547a-918b-44f9-a6f9-24350a7229d2',\n",
       "                                  'type': 'EXPERIMENT'},\n",
       "                          'name': 'java-pytorch-training',\n",
       "                          'relationship': 'OWNER'}],\n",
       " 'scheduled_at': datetime.datetime(2023, 1, 4, 4, 10, 37, tzinfo=tzutc()),\n",
       " 'service_account': 'default-editor',\n",
       " 'status': None,\n",
       " 'storage_state': None}"
      ]
     },
     "execution_count": 68,
     "metadata": {},
     "output_type": "execute_result"
    }
   ],
   "source": [
    "client.run_pipeline(experiment_id=experiment.id,job_name=pipeline_name,pipeline_package_path=pipeline_package_path)"
   ]
  },
  {
   "cell_type": "code",
   "execution_count": null,
   "id": "513994c1-e1fa-4a80-ab1d-a3356aa33286",
   "metadata": {},
   "outputs": [],
   "source": []
  }
 ],
 "metadata": {
  "kernelspec": {
   "display_name": "base",
   "language": "python",
   "name": "python3"
  },
  "language_info": {
   "codemirror_mode": {
    "name": "ipython",
    "version": 3
   },
   "file_extension": ".py",
   "mimetype": "text/x-python",
   "name": "python",
   "nbconvert_exporter": "python",
   "pygments_lexer": "ipython3",
   "version": "3.9.13"
  },
  "vscode": {
   "interpreter": {
    "hash": "40d3a090f54c6569ab1632332b64b2c03c39dcf918b08424e98f38b5ae0af88f"
   }
  }
 },
 "nbformat": 4,
 "nbformat_minor": 5
}
