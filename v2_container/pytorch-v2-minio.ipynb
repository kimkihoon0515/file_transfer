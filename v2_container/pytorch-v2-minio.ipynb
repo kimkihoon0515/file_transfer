{
 "cells": [
  {
   "cell_type": "code",
   "execution_count": 1,
   "id": "fc728512-b4a9-4966-9cd9-c51eb11e5751",
   "metadata": {},
   "outputs": [],
   "source": [
    "import kfp\n",
    "import kfp.dsl as dsl\n",
    "from kfp.dsl import container_component, ContainerSpec, InputPath, OutputPath, Output\n"
   ]
  },
  {
   "cell_type": "code",
   "execution_count": 2,
   "id": "94e77e82-9e29-4e90-9a19-34f4b70d622e",
   "metadata": {},
   "outputs": [],
   "source": [
    "@container_component\n",
    "def data():\n",
    "    return dsl.ContainerSpec(\n",
    "        image='kimkihoon0515/pytorch-data:pws',\n",
    "        command=['python','data.py'],\n",
    "                   )"
   ]
  },
  {
   "cell_type": "code",
   "execution_count": 3,
   "id": "0ca73855-c0f8-4a5d-9e21-df1d13df3f2d",
   "metadata": {},
   "outputs": [],
   "source": [
    "@container_component\n",
    "def train():\n",
    "    return dsl.ContainerSpec(\n",
    "        image='kimkihoon0515/pytorch-train:pws',\n",
    "        command=['python','train.py']\n",
    "                   )"
   ]
  },
  {
   "cell_type": "code",
   "execution_count": 4,
   "id": "c7e6f58a-0028-4883-bc12-1a0de7448bad",
   "metadata": {},
   "outputs": [],
   "source": [
    "@container_component\n",
    "def java():\n",
    "    return dsl.ContainerSpec(\n",
    "        image='kimkihoon0515/java-docker-app',\n",
    "        command=['java','Hello']\n",
    "    )"
   ]
  },
  {
   "cell_type": "code",
   "execution_count": 5,
   "id": "7b28eb29-8a66-403a-a23f-0a1e629defe5",
   "metadata": {},
   "outputs": [],
   "source": [
    "@dsl.pipeline(\n",
    "    name='pytorch-v2'\n",
    ")\n",
    "def pipeline():\n",
    "    step1 = data()\n",
    "    step2 = train()\n",
    "    step3 = java()\n",
    "    step2.after(step1)\n",
    "    step3.after(step2)"
   ]
  },
  {
   "cell_type": "code",
   "execution_count": 6,
   "id": "bb7e0c24-8311-422a-a150-9d577119adf6",
   "metadata": {},
   "outputs": [],
   "source": [
    "kfp.compiler.Compiler().compile(\n",
    "    pipeline_func=pipeline,\n",
    "    package_path='pytorch-v2.yaml')"
   ]
  },
  {
   "cell_type": "code",
   "execution_count": null,
   "id": "6fbf45f8-e90f-4ae8-b2d8-ab5a3351ccec",
   "metadata": {},
   "outputs": [],
   "source": []
  }
 ],
 "metadata": {
  "kernelspec": {
   "display_name": "Python 3 (ipykernel)",
   "language": "python",
   "name": "python3"
  },
  "language_info": {
   "codemirror_mode": {
    "name": "ipython",
    "version": 3
   },
   "file_extension": ".py",
   "mimetype": "text/x-python",
   "name": "python",
   "nbconvert_exporter": "python",
   "pygments_lexer": "ipython3",
   "version": "3.8.10"
  }
 },
 "nbformat": 4,
 "nbformat_minor": 5
}
