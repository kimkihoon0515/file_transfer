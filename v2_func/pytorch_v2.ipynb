{
 "cells": [
  {
   "cell_type": "code",
   "execution_count": 14,
   "id": "e4596d5a-5db3-4851-9d8c-8bee20d16603",
   "metadata": {},
   "outputs": [],
   "source": [
    "import kfp\n",
    "import kfp.dsl as dsl\n",
    "from kfp.dsl import component, Input, Output, InputPath, OutputPath, Dataset, Metrics, Model, Artifact, ClassificationMetrics, Markdown"
   ]
  },
  {
   "cell_type": "code",
   "execution_count": 15,
   "id": "2a33010f-deed-488f-90cc-e60c9de251fd",
   "metadata": {},
   "outputs": [],
   "source": [
    "@component(\n",
    "    packages_to_install=[\"torch\",\"torchvision\"]\n",
    ")\n",
    "def load_data(\n",
    "    dataset: Output[Dataset]\n",
    "):\n",
    "    from torchvision import datasets\n",
    "    from torchvision import transforms\n",
    "    from torch.utils.data import DataLoader\n",
    "    \n",
    "    import os\n",
    "    download_root = dataset.path # 데이터 다운로드 경로\n",
    "\n",
    "    train_dataset = datasets.MNIST(root=download_root,\n",
    "                            train=True,\n",
    "                            transform=transforms.ToTensor(),\n",
    "                            download=True) # 학습 dataset 정의\n",
    "                            \n",
    "    test_dataset = datasets.MNIST(root=download_root,\n",
    "                            train=False,\n",
    "                            transform=transforms.ToTensor(), \n",
    "                            download=True) # 평가 dataset 정의\n",
    "    "
   ]
  },
  {
   "cell_type": "code",
   "execution_count": 16,
   "id": "1d618aad-2f4c-4bb7-ae0c-6a7c6783032c",
   "metadata": {},
   "outputs": [],
   "source": [
    "@dsl.pipeline(\n",
    "    name=\"pytorch-v2\"\n",
    ")\n",
    "def pipeline(\n",
    "):\n",
    "    load_data_task = load_data()\n",
    "\n",
    "kfp.compiler.Compiler().compile(\n",
    "pipeline_func=pipeline,\n",
    "package_path='pytorch_v2.yaml')\n"
   ]
  },
  {
   "cell_type": "code",
   "execution_count": 17,
   "id": "a97749f7-d427-46b1-9b7e-25e7e561268c",
   "metadata": {},
   "outputs": [],
   "source": [
    "import requests\n",
    "\n",
    "USERNAME = \"user@example.com\"\n",
    "PASSWORD = \"12341234\"\n",
    "NAMESPACE = \"kubeflow-user-example-com\"\n",
    "HOST = \"http://172.17.0.11:8080\" # istio-ingressgateway pod ip:port\n",
    "\n",
    "session = requests.Session()\n",
    "response = session.get(HOST)\n",
    "\n",
    "headers = {\n",
    "    \"Content-Type\": \"application/x-www-form-urlencoded\",\n",
    "}\n",
    "\n",
    "data = {\"login\": \"user@example.com\", \"password\": \"12341234\"}\n",
    "session.post(response.url, headers=headers, data=data)\n",
    "session_cookie = session.cookies.get_dict()[\"authservice_session\"]\n",
    "\n",
    "client = kfp.Client(\n",
    "    host=f\"{HOST}/pipeline\",\n",
    "    namespace=f\"{NAMESPACE}\",\n",
    "    cookies=f\"authservice_session={session_cookie}\",\n",
    ")"
   ]
  },
  {
   "cell_type": "code",
   "execution_count": 18,
   "id": "ab480d9a-9567-4126-99b3-b7d263226520",
   "metadata": {},
   "outputs": [
    {
     "data": {
      "text/html": [
       "<a href=\"http://172.17.0.11:8080/pipeline/#/experiments/details/0f92eb42-2ba8-4cfd-abe7-8eacfe374cb9\" target=\"_blank\" >Experiment details</a>."
      ],
      "text/plain": [
       "<IPython.core.display.HTML object>"
      ]
     },
     "metadata": {},
     "output_type": "display_data"
    },
    {
     "data": {
      "text/html": [
       "<a href=\"http://172.17.0.11:8080/pipeline/#/runs/details/20de57ca-1529-4152-ab97-f733c1fff435\" target=\"_blank\" >Run details</a>."
      ],
      "text/plain": [
       "<IPython.core.display.HTML object>"
      ]
     },
     "metadata": {},
     "output_type": "display_data"
    },
    {
     "data": {
      "text/plain": [
       "RunPipelineResult(run_id=20de57ca-1529-4152-ab97-f733c1fff435)"
      ]
     },
     "execution_count": 18,
     "metadata": {},
     "output_type": "execute_result"
    }
   ],
   "source": [
    "arguments = {\n",
    "}\n",
    "client.create_run_from_pipeline_func(pipeline_func=pipeline,arguments=arguments,enable_caching=False)"
   ]
  },
  {
   "cell_type": "code",
   "execution_count": null,
   "id": "1be1c5b8-06fd-471d-ba14-7a66b0d2d294",
   "metadata": {},
   "outputs": [],
   "source": []
  }
 ],
 "metadata": {
  "kernelspec": {
   "display_name": "Python 3 (ipykernel)",
   "language": "python",
   "name": "python3"
  },
  "language_info": {
   "codemirror_mode": {
    "name": "ipython",
    "version": 3
   },
   "file_extension": ".py",
   "mimetype": "text/x-python",
   "name": "python",
   "nbconvert_exporter": "python",
   "pygments_lexer": "ipython3",
   "version": "3.8.10"
  }
 },
 "nbformat": 4,
 "nbformat_minor": 5
}
