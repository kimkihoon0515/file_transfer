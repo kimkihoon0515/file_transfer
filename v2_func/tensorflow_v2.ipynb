{
 "cells": [
  {
   "cell_type": "code",
   "execution_count": 18,
   "id": "355d479c-629f-4b79-b91b-341616854f8d",
   "metadata": {},
   "outputs": [],
   "source": [
    "import kfp\n",
    "import kfp.dsl as dsl\n",
    "from kfp.dsl import component, Input, Output, InputPath, OutputPath, Dataset, Metrics, Model, Artifact, ClassificationMetrics, Markdown"
   ]
  },
  {
   "cell_type": "markdown",
   "id": "77d50655-3943-4968-bd87-a78b75ccb488",
   "metadata": {},
   "source": [
    "# Load_Data Component"
   ]
  },
  {
   "cell_type": "code",
   "execution_count": 19,
   "id": "d932b26f-fd31-4435-8895-1b293460b5b9",
   "metadata": {},
   "outputs": [],
   "source": [
    "@component(\n",
    "    packages_to_install=[\"tensorflow\", \"numpy\"]\n",
    ")\n",
    "def load_data(\n",
    "    dataset: Output[Dataset]\n",
    "):\n",
    "    import tensorflow as tf\n",
    "    import numpy as np\n",
    "    \n",
    "    (x_train, y_train), (x_test, y_test) = tf.keras.datasets.mnist.load_data()\n",
    "    x_train = x_train / 255.0\n",
    "    x_test = x_test / 255.0\n",
    "    \n",
    "    with open(dataset.path, \"wb\") as f:\n",
    "        np.savez(\n",
    "            f,\n",
    "            x_train=x_train,\n",
    "            y_train=y_train,\n",
    "            x_test=x_test,\n",
    "            y_test=y_test\n",
    "        )"
   ]
  },
  {
   "cell_type": "markdown",
   "id": "3e8205d5-ff1d-48d7-b0e5-3a54ca246249",
   "metadata": {},
   "source": [
    "# Model_Building Component"
   ]
  },
  {
   "cell_type": "code",
   "execution_count": 20,
   "id": "c60057dd-9ac9-4aac-b40d-bf5adb9f9e69",
   "metadata": {},
   "outputs": [],
   "source": [
    "@component(\n",
    "    packages_to_install=[\"tensorflow\", \"numpy\",\"scikit-learn\"]\n",
    ")\n",
    "def model_building(\n",
    "    no_epochs: int,\n",
    "    lr: float,\n",
    "    dataset: Input[Dataset],\n",
    "    model: Output[Model],\n",
    "    conf_matrix: Output[ClassificationMetrics],\n",
    "    metrics: Output[Metrics],\n",
    "    model_summary: Output[Markdown]\n",
    "):\n",
    "    \"\"\"\n",
    "    Build the model with Keras API\n",
    "    Export model parameters\n",
    "    \"\"\"\n",
    "    from tensorflow import keras\n",
    "    import tensorflow as tf\n",
    "    import numpy as np\n",
    "    from sklearn.metrics import confusion_matrix\n",
    "    \n",
    "    with open(dataset.path, \"rb\") as f:\n",
    "        dataset = np.load(f)\n",
    "        x_train, y_train = dataset[\"x_train\"], dataset[\"y_train\"]\n",
    "        x_test, y_test = dataset[\"x_test\"], dataset[\"y_test\"]\n",
    "    \n",
    "    \n",
    "    train_model = keras.models.Sequential()\n",
    "    train_model.add(keras.layers.Conv2D(64, (3, 3), activation='relu', input_shape=(28,28,1)))\n",
    "    train_model.add(keras.layers.MaxPool2D(2, 2))\n",
    "\n",
    "    train_model.add(keras.layers.Flatten())\n",
    "    train_model.add(keras.layers.Dense(64, activation='relu'))\n",
    "\n",
    "    train_model.add(keras.layers.Dense(32, activation='relu'))\n",
    "\n",
    "    train_model.add(keras.layers.Dense(10, activation='softmax')) #output are 10 classes, numbers from 0-9\n",
    "    \n",
    "    \n",
    "    #compile the model - we want to have a binary outcome\n",
    "\n",
    "    optimizer = keras.optimizers.Adam(learning_rate=lr)\n",
    "\n",
    "    train_model.compile(optimizer=optimizer,\n",
    "              loss=\"sparse_categorical_crossentropy\",\n",
    "              metrics=['accuracy'])\n",
    "    \n",
    "    #fit the model and return the history while training\n",
    "    history = train_model.fit(\n",
    "      x=x_train,\n",
    "      y=y_train,\n",
    "      epochs=no_epochs,\n",
    "      batch_size=20,\n",
    "    )\n",
    "    \n",
    "\n",
    "    # Test the model against the test dataset\n",
    "    # Returns the loss value & metrics values for the model in test mode.\n",
    "    model_loss, model_accuracy = train_model.evaluate(x=x_test,y=y_test)\n",
    "    \n",
    "    predictions = train_model.predict(x_test)\n",
    "\n",
    "    confusion = confusion_matrix(y_test,np.argmax(predictions,axis=1)).tolist()\n",
    "    \n",
    "    conf_matrix.log_confusion_matrix(\n",
    "        ['0','1','2','3','4','5','6','7','8','9'],\n",
    "        confusion_matrix(y_test,np.argmax(predictions,axis=1)).tolist() # .tolist() to convert np array to list.\n",
    "    )   \n",
    "    \n",
    "    metrics.log_metric(\"accuracy\", (model_accuracy*100))\n",
    "    \n",
    "    stringlist = []\n",
    "    train_model.summary(print_fn=lambda x: stringlist.append(x))\n",
    "    markdown_content = \"\\n\".join(stringlist)\n",
    "    with open(model_summary.path,'w') as f:\n",
    "        f.write(markdown_content)\n",
    "    \n",
    "    \n",
    "    with open(model.path,'wb') as f:\n",
    "        train_model.save(f)\n",
    "\n",
    "    \n",
    "    "
   ]
  },
  {
   "cell_type": "markdown",
   "id": "463803b5-152c-42fd-99e2-a6f3271a0549",
   "metadata": {},
   "source": [
    "# Test Component - Model 못불러옴"
   ]
  },
  {
   "cell_type": "code",
   "execution_count": 24,
   "id": "a926cd48-41ab-40b7-8308-08e02d096d04",
   "metadata": {},
   "outputs": [],
   "source": [
    "@component(\n",
    "    packages_to_install=[\"tensorflow\", \"numpy\",\"scikit-learn\"]\n",
    ")\n",
    "def test(\n",
    "    dataset: Input[Dataset],\n",
    "    model: Input[Model],\n",
    "    metrics: Output[Metrics]\n",
    "):\n",
    "    from tensorflow import keras\n",
    "    import tensorflow as tf\n",
    "    import numpy as np\n",
    "    \n",
    "    \n",
    "    with open(dataset.path, \"rb\") as f:\n",
    "        dataset = np.load(f)\n",
    "        x_train, y_train = dataset[\"x_train\"], dataset[\"y_train\"]\n",
    "        x_test, y_test = dataset[\"x_test\"], dataset[\"y_test\"]\n",
    "    \n",
    "    test_model = tf.keras.models.load_model(model.path+'/model.h5')\n",
    "    model_loss, model_accuracy = test_model.evalutate(x=x_test,y=y_test)\n",
    "    \n",
    "    metrics.log_metric(\"accuracy\", (model_accuracy*100))"
   ]
  },
  {
   "cell_type": "code",
   "execution_count": 25,
   "id": "ff43190d-9377-4da8-84d8-c8e60409d25b",
   "metadata": {},
   "outputs": [],
   "source": [
    "#dsl.get_pipeline_conf().add_op_transformer(aws.use_aws_secret(secret_name=''))"
   ]
  },
  {
   "cell_type": "markdown",
   "id": "91a32a61-3e45-44a1-9e6b-592d06f48c16",
   "metadata": {},
   "source": [
    "# Pipeline Compile"
   ]
  },
  {
   "cell_type": "code",
   "execution_count": 26,
   "id": "a4e37e9c-6d51-4ede-bd19-e16825f437cb",
   "metadata": {},
   "outputs": [],
   "source": [
    "@dsl.pipeline(\n",
    "    name=\"tensorflow-v2-I/O\",\n",
    "    #pipeline_root=\"s3://krcloud.s3.hmckmc.co.kr/aipsystemdev\"\n",
    ")\n",
    "def pipeline(\n",
    "    no_epochs: int,\n",
    "    lr: float\n",
    "):\n",
    "    download_data_task = load_data()\n",
    " \n",
    "    train_task = model_building(no_epochs=1,lr=0.001,dataset=download_data_task.output)\n",
    "    #test_task = test(dataset=download_data_task.output,model=train_task.outputs['model'])\n",
    "\n",
    "kfp.compiler.Compiler().compile(\n",
    "    pipeline_func=pipeline,\n",
    "    package_path='tesnorflow_v2.yaml')\n"
   ]
  },
  {
   "cell_type": "markdown",
   "id": "571f2e6f-98ca-4d0b-a71b-54871812020e",
   "metadata": {},
   "source": [
    "# Client 연동"
   ]
  },
  {
   "cell_type": "code",
   "execution_count": 27,
   "id": "16d53dc7-f663-4b9f-81f2-188a3c2cccc5",
   "metadata": {},
   "outputs": [
    {
     "name": "stderr",
     "output_type": "stream",
     "text": [
      "/opt/conda/lib/python3.8/site-packages/kfp/client/client.py:140: FutureWarning: This client only works with Kubeflow Pipeline v2.0.0-alpha.0 and later versions.\n",
      "  warnings.warn(\n"
     ]
    }
   ],
   "source": [
    "import requests\n",
    "\n",
    "USERNAME = \"user@example.com\"\n",
    "PASSWORD = \"12341234\"\n",
    "NAMESPACE = \"kubeflow-user-example-com\"\n",
    "HOST = \"http://172.17.0.7:8080\" # istio-ingressgateway pod ip:port\n",
    "\n",
    "session = requests.Session()\n",
    "response = session.get(HOST)\n",
    "\n",
    "headers = {\n",
    "    \"Content-Type\": \"application/x-www-form-urlencoded\",\n",
    "}\n",
    "\n",
    "data = {\"login\": \"user@example.com\", \"password\": \"12341234\"}\n",
    "session.post(response.url, headers=headers, data=data)\n",
    "session_cookie = session.cookies.get_dict()[\"authservice_session\"]\n",
    "\n",
    "client = kfp.Client(\n",
    "    host=f\"{HOST}/pipeline\",\n",
    "    namespace=f\"{NAMESPACE}\",\n",
    "    cookies=f\"authservice_session={session_cookie}\",\n",
    ")"
   ]
  },
  {
   "cell_type": "markdown",
   "id": "a01ed30b-7603-4a47-98d8-81c88d64b65f",
   "metadata": {},
   "source": [
    "# Run Pipeline"
   ]
  },
  {
   "cell_type": "code",
   "execution_count": 28,
   "id": "52d6e57a-52e7-4bae-b868-e2aca686d217",
   "metadata": {},
   "outputs": [
    {
     "data": {
      "text/html": [
       "<a href=\"http://172.17.0.7:8080/pipeline/#/experiments/details/0f92eb42-2ba8-4cfd-abe7-8eacfe374cb9\" target=\"_blank\" >Experiment details</a>."
      ],
      "text/plain": [
       "<IPython.core.display.HTML object>"
      ]
     },
     "metadata": {},
     "output_type": "display_data"
    },
    {
     "data": {
      "text/html": [
       "<a href=\"http://172.17.0.7:8080/pipeline/#/runs/details/54f3205c-294e-49e9-bbd6-b845696eecea\" target=\"_blank\" >Run details</a>."
      ],
      "text/plain": [
       "<IPython.core.display.HTML object>"
      ]
     },
     "metadata": {},
     "output_type": "display_data"
    },
    {
     "data": {
      "text/plain": [
       "RunPipelineResult(run_id=54f3205c-294e-49e9-bbd6-b845696eecea)"
      ]
     },
     "execution_count": 28,
     "metadata": {},
     "output_type": "execute_result"
    }
   ],
   "source": [
    "arguments = {\n",
    "    'no_epochs':10,\n",
    "    'lr':0.001\n",
    "}\n",
    "client.create_run_from_pipeline_func(pipeline_func=pipeline,arguments=arguments,enable_caching=False)"
   ]
  },
  {
   "cell_type": "code",
   "execution_count": null,
   "id": "fede2d8d-337c-4b7c-8502-6cc0b0e7c061",
   "metadata": {},
   "outputs": [],
   "source": []
  }
 ],
 "metadata": {
  "kernelspec": {
   "display_name": "Python 3 (ipykernel)",
   "language": "python",
   "name": "python3"
  },
  "language_info": {
   "codemirror_mode": {
    "name": "ipython",
    "version": 3
   },
   "file_extension": ".py",
   "mimetype": "text/x-python",
   "name": "python",
   "nbconvert_exporter": "python",
   "pygments_lexer": "ipython3",
   "version": "3.8.10"
  }
 },
 "nbformat": 4,
 "nbformat_minor": 5
}
